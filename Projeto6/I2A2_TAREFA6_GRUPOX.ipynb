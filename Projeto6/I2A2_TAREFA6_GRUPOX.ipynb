{
 "cells": [
  {
   "cell_type": "markdown",
   "id": "cd90c988",
   "metadata": {},
   "source": [
    "# Atividade 1 – Exploração Inicial dos Dados:\n",
    "Na Amazônia, compreender o destino dos resíduos eletrônicos começa pela análise da própria base de registros, que muitas vezes chega com erros, duplicatas e informações incompletas.\n",
    "Carregue a base \"desafio6_lixo_eletronico.csv\" em um DataFrame do Pandas, faça uma análise exploratória (shape, tipos de variáveis, estatísticas descritivas) e apresente o total de valores ausentes e duplicados."
   ]
  },
  {
   "cell_type": "code",
   "execution_count": null,
   "id": "f8d0684c",
   "metadata": {},
   "outputs": [],
   "source": []
  }
 ],
 "metadata": {
  "language_info": {
   "name": "python"
  }
 },
 "nbformat": 4,
 "nbformat_minor": 5
}
